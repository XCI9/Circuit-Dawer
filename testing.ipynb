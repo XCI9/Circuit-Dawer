{
 "cells": [
  {
   "cell_type": "code",
   "execution_count": 1,
   "metadata": {},
   "outputs": [],
   "source": [
    "from build import *\n",
    "# kΩ"
   ]
  },
  {
   "cell_type": "code",
   "execution_count": 38,
   "metadata": {},
   "outputs": [],
   "source": [
    "circuit = '''\\\n",
    ".. .. .. .. .. .. .. .. .. ..\n",
    "..             ..          ..\n",
    "..             ..          R1\n",
    "Vs             R2          ..\n",
    "..             ..          .. A1\n",
    "..             ..          ..\n",
    ".. .. .. .. .. .. .. .. .. gx\n",
    "#'''\n",
    "setting = '''\\\n",
    "R : values = 3kΩ 6kΩ\n",
    "R2 : valuePos = LHS\n",
    "A1 : move = -1.5 0 \n",
    "A1 : shape = end\n",
    "A1 : direction = U\n",
    "A1 : valueMove = -2 0\n",
    "A1 : value = i_L(t=0^-)\n",
    "gx : direction = R\n",
    "Vs : value = 12V\n",
    "#'''\n",
    "autoNode = False\n",
    "blockWidth = 4\n",
    "############################################################\n",
    "board1    = CircuitBoard(circuit, setting, autoNode = autoNode)\n",
    "svgCodes  = to_svgCodes(board1, blockWidth = blockWidth)\n",
    "svgDrawer = svgGenerator(svgCodes, {'unit': 8})\n",
    "svgDrawer.generate('output.svg')\n",
    "postprocessing('output.svg')\n",
    "############################################################"
   ]
  },
  {
   "cell_type": "code",
   "execution_count": 39,
   "metadata": {},
   "outputs": [],
   "source": [
    "to_txt(board1, 'Fig(7.3-1).txt', autoNode = autoNode, blockWidth = blockWidth)"
   ]
  },
  {
   "cell_type": "code",
   "execution_count": 138,
   "metadata": {},
   "outputs": [
    {
     "data": {
      "text/plain": [
       "array([[2.5-1.j ],\n",
       "       [4.5-1.j ],\n",
       "       [2. +0.5j]])"
      ]
     },
     "execution_count": 138,
     "metadata": {},
     "output_type": "execute_result"
    }
   ],
   "source": [
    "import numpy as np\n",
    "def p(angle) :\n",
    "    return np.exp(1j*angle*np.pi/180)\n",
    "A = np.array([\n",
    "[1+1j, 1, -1],\n",
    "[-1, 1, 0],\n",
    "[0, -1, 2-1j]\n",
    "])\n",
    "b = np.array([\n",
    "[6*p(0)],\n",
    "[2*p(0)],\n",
    "[0],\n",
    "])\n",
    "x = np.linalg.inv(A) @ b\n",
    "x"
   ]
  }
 ],
 "metadata": {
  "kernelspec": {
   "display_name": "Python 3",
   "language": "python",
   "name": "python3"
  },
  "language_info": {
   "codemirror_mode": {
    "name": "ipython",
    "version": 3
   },
   "file_extension": ".py",
   "mimetype": "text/x-python",
   "name": "python",
   "nbconvert_exporter": "python",
   "pygments_lexer": "ipython3",
   "version": "3.10.6"
  },
  "orig_nbformat": 4,
  "vscode": {
   "interpreter": {
    "hash": "26de051ba29f2982a8de78e945f0abaf191376122a1563185a90213a26c5da77"
   }
  }
 },
 "nbformat": 4,
 "nbformat_minor": 2
}
